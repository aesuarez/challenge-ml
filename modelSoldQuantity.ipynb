{
 "cells": [
  {
   "cell_type": "markdown",
   "id": "f43466c4",
   "metadata": {},
   "source": [
    "## Model sold_quantity"
   ]
  },
  {
   "cell_type": "markdown",
   "id": "1ced40f1",
   "metadata": {},
   "source": [
    "The idea behind this notebook is build a model for the sold_quantity attribute of the products."
   ]
  },
  {
   "cell_type": "markdown",
   "id": "2253cfac",
   "metadata": {},
   "source": [
    "### Import libraries"
   ]
  },
  {
   "cell_type": "code",
   "execution_count": 1,
   "id": "2d4103e6",
   "metadata": {},
   "outputs": [],
   "source": [
    "import pandas as pd\n",
    "import requests\n",
    "import json\n",
    "from sklearn.model_selection import train_test_split\n",
    "\n",
    "import seaborn as sns\n",
    "import numpy as np\n",
    "import matplotlib.pyplot as plt"
   ]
  },
  {
   "cell_type": "markdown",
   "id": "2761a4ca",
   "metadata": {},
   "source": [
    "### Obtaining the data"
   ]
  },
  {
   "cell_type": "markdown",
   "id": "a9247345",
   "metadata": {},
   "source": [
    "If data has been already downloaded previously, load it uncommenting the following box:"
   ]
  },
  {
   "cell_type": "code",
   "execution_count": 2,
   "id": "4b1f7884",
   "metadata": {},
   "outputs": [],
   "source": [
    "#Uncomment to load csv file\n",
    "productsDF = pd.read_csv(\"productosCatV2.csv\", index_col=[0])"
   ]
  },
  {
   "cell_type": "markdown",
   "id": "9e90c532",
   "metadata": {},
   "source": [
    "Otherwise download the data by categories. Full explanation for downloading the data is in notebook `Exploratory_Analysis`"
   ]
  },
  {
   "cell_type": "code",
   "execution_count": 3,
   "id": "6428f3d1",
   "metadata": {},
   "outputs": [],
   "source": [
    "#Uncomment for obtaining categories\n",
    "#r =requests.get(\"https://api.mercadolibre.com/sites/MLA/categories\")\n",
    "#categories = r.json()"
   ]
  },
  {
   "cell_type": "code",
   "execution_count": 4,
   "id": "14335ce5",
   "metadata": {},
   "outputs": [],
   "source": [
    "#url_base=\"https://api.mercadolibre.com/sites/MLA/search?category=\""
   ]
  },
  {
   "cell_type": "code",
   "execution_count": 5,
   "id": "316d7d12",
   "metadata": {},
   "outputs": [],
   "source": [
    "#productsList = []\n",
    "#for category in categories:\n",
    "#    for offset in range(0,500,50):\n",
    "#        url = url_base + category[\"id\"] + \"&offset=\" + str(offset)\n",
    "#        r = requests.get(url)\n",
    "#        result = r.json()\n",
    "#        products= pd.DataFrame(result[\"results\"])\n",
    "#        products[\"parent_category_name\"] = category[\"name\"]\n",
    "#        products[\"parent_category_id\"] = category[\"id\"]\n",
    "#        productsList.append(products)\n",
    "        \n",
    "#productsDF = pd.concat(productsList)    "
   ]
  },
  {
   "cell_type": "code",
   "execution_count": 6,
   "id": "f241eeb1",
   "metadata": {},
   "outputs": [
    {
     "data": {
      "text/html": [
       "<div>\n",
       "<style scoped>\n",
       "    .dataframe tbody tr th:only-of-type {\n",
       "        vertical-align: middle;\n",
       "    }\n",
       "\n",
       "    .dataframe tbody tr th {\n",
       "        vertical-align: top;\n",
       "    }\n",
       "\n",
       "    .dataframe thead th {\n",
       "        text-align: right;\n",
       "    }\n",
       "</style>\n",
       "<table border=\"1\" class=\"dataframe\">\n",
       "  <thead>\n",
       "    <tr style=\"text-align: right;\">\n",
       "      <th></th>\n",
       "      <th>id</th>\n",
       "      <th>site_id</th>\n",
       "      <th>title</th>\n",
       "      <th>seller</th>\n",
       "      <th>price</th>\n",
       "      <th>prices</th>\n",
       "      <th>sale_price</th>\n",
       "      <th>currency_id</th>\n",
       "      <th>available_quantity</th>\n",
       "      <th>sold_quantity</th>\n",
       "      <th>...</th>\n",
       "      <th>winner_item_id</th>\n",
       "      <th>melicoin</th>\n",
       "      <th>discounts</th>\n",
       "      <th>catalog_listing</th>\n",
       "      <th>differential_pricing</th>\n",
       "      <th>parent_category_name</th>\n",
       "      <th>parent_category_id</th>\n",
       "      <th>seller_contact</th>\n",
       "      <th>location</th>\n",
       "      <th>sale_terms</th>\n",
       "    </tr>\n",
       "  </thead>\n",
       "  <tbody>\n",
       "    <tr>\n",
       "      <th>0</th>\n",
       "      <td>MLA821869592</td>\n",
       "      <td>MLA</td>\n",
       "      <td>Casco Integral Moto Vertigo Cosmic + Mascara +...</td>\n",
       "      <td>{'id': 19876329, 'permalink': 'http://perfil.m...</td>\n",
       "      <td>4968.50</td>\n",
       "      <td>{'id': 'MLA821869592', 'prices': [{'id': '155'...</td>\n",
       "      <td>NaN</td>\n",
       "      <td>ARS</td>\n",
       "      <td>150</td>\n",
       "      <td>500</td>\n",
       "      <td>...</td>\n",
       "      <td>NaN</td>\n",
       "      <td>NaN</td>\n",
       "      <td>NaN</td>\n",
       "      <td>NaN</td>\n",
       "      <td>NaN</td>\n",
       "      <td>Accesorios para Vehículos</td>\n",
       "      <td>MLA5725</td>\n",
       "      <td>NaN</td>\n",
       "      <td>NaN</td>\n",
       "      <td>NaN</td>\n",
       "    </tr>\n",
       "    <tr>\n",
       "      <th>1</th>\n",
       "      <td>MLA636709517</td>\n",
       "      <td>MLA</td>\n",
       "      <td>Cubre Alfombra Goma Pesada Universal 3 Piezas ...</td>\n",
       "      <td>{'id': 173563910, 'permalink': 'http://perfil....</td>\n",
       "      <td>2159.99</td>\n",
       "      <td>{'id': 'MLA636709517', 'prices': [{'id': '72',...</td>\n",
       "      <td>NaN</td>\n",
       "      <td>ARS</td>\n",
       "      <td>1</td>\n",
       "      <td>5000</td>\n",
       "      <td>...</td>\n",
       "      <td>NaN</td>\n",
       "      <td>NaN</td>\n",
       "      <td>NaN</td>\n",
       "      <td>NaN</td>\n",
       "      <td>NaN</td>\n",
       "      <td>Accesorios para Vehículos</td>\n",
       "      <td>MLA5725</td>\n",
       "      <td>NaN</td>\n",
       "      <td>NaN</td>\n",
       "      <td>NaN</td>\n",
       "    </tr>\n",
       "    <tr>\n",
       "      <th>2</th>\n",
       "      <td>MLA1102761474</td>\n",
       "      <td>MLA</td>\n",
       "      <td>Compresor De Aire Mini A Batería Portátil Klat...</td>\n",
       "      <td>{'id': 671347056, 'permalink': 'http://perfil....</td>\n",
       "      <td>1999.00</td>\n",
       "      <td>{'id': 'MLA1102761474', 'prices': [{'id': '48'...</td>\n",
       "      <td>NaN</td>\n",
       "      <td>ARS</td>\n",
       "      <td>456</td>\n",
       "      <td>3877</td>\n",
       "      <td>...</td>\n",
       "      <td>NaN</td>\n",
       "      <td>NaN</td>\n",
       "      <td>NaN</td>\n",
       "      <td>True</td>\n",
       "      <td>NaN</td>\n",
       "      <td>Accesorios para Vehículos</td>\n",
       "      <td>MLA5725</td>\n",
       "      <td>NaN</td>\n",
       "      <td>NaN</td>\n",
       "      <td>NaN</td>\n",
       "    </tr>\n",
       "    <tr>\n",
       "      <th>3</th>\n",
       "      <td>MLA610309020</td>\n",
       "      <td>MLA</td>\n",
       "      <td>Sensor De Estacionamiento * Colores Con Displa...</td>\n",
       "      <td>{'id': 149089767, 'permalink': 'http://perfil....</td>\n",
       "      <td>1890.00</td>\n",
       "      <td>{'id': 'MLA610309020', 'prices': [{'id': '5', ...</td>\n",
       "      <td>NaN</td>\n",
       "      <td>ARS</td>\n",
       "      <td>100</td>\n",
       "      <td>5000</td>\n",
       "      <td>...</td>\n",
       "      <td>NaN</td>\n",
       "      <td>NaN</td>\n",
       "      <td>NaN</td>\n",
       "      <td>NaN</td>\n",
       "      <td>NaN</td>\n",
       "      <td>Accesorios para Vehículos</td>\n",
       "      <td>MLA5725</td>\n",
       "      <td>NaN</td>\n",
       "      <td>NaN</td>\n",
       "      <td>NaN</td>\n",
       "    </tr>\n",
       "    <tr>\n",
       "      <th>4</th>\n",
       "      <td>MLA701195248</td>\n",
       "      <td>MLA</td>\n",
       "      <td>Cubre Volante De Cuero Legitimo Luca Tiziano C...</td>\n",
       "      <td>{'id': 129081707, 'permalink': 'http://perfil....</td>\n",
       "      <td>1780.00</td>\n",
       "      <td>{'id': 'MLA701195248', 'prices': [{'id': '5', ...</td>\n",
       "      <td>NaN</td>\n",
       "      <td>ARS</td>\n",
       "      <td>50000</td>\n",
       "      <td>500</td>\n",
       "      <td>...</td>\n",
       "      <td>NaN</td>\n",
       "      <td>NaN</td>\n",
       "      <td>NaN</td>\n",
       "      <td>NaN</td>\n",
       "      <td>NaN</td>\n",
       "      <td>Accesorios para Vehículos</td>\n",
       "      <td>MLA5725</td>\n",
       "      <td>NaN</td>\n",
       "      <td>NaN</td>\n",
       "      <td>NaN</td>\n",
       "    </tr>\n",
       "  </tbody>\n",
       "</table>\n",
       "<p>5 rows × 44 columns</p>\n",
       "</div>"
      ],
      "text/plain": [
       "              id site_id                                              title  \\\n",
       "0   MLA821869592     MLA  Casco Integral Moto Vertigo Cosmic + Mascara +...   \n",
       "1   MLA636709517     MLA  Cubre Alfombra Goma Pesada Universal 3 Piezas ...   \n",
       "2  MLA1102761474     MLA  Compresor De Aire Mini A Batería Portátil Klat...   \n",
       "3   MLA610309020     MLA  Sensor De Estacionamiento * Colores Con Displa...   \n",
       "4   MLA701195248     MLA  Cubre Volante De Cuero Legitimo Luca Tiziano C...   \n",
       "\n",
       "                                              seller    price  \\\n",
       "0  {'id': 19876329, 'permalink': 'http://perfil.m...  4968.50   \n",
       "1  {'id': 173563910, 'permalink': 'http://perfil....  2159.99   \n",
       "2  {'id': 671347056, 'permalink': 'http://perfil....  1999.00   \n",
       "3  {'id': 149089767, 'permalink': 'http://perfil....  1890.00   \n",
       "4  {'id': 129081707, 'permalink': 'http://perfil....  1780.00   \n",
       "\n",
       "                                              prices  sale_price currency_id  \\\n",
       "0  {'id': 'MLA821869592', 'prices': [{'id': '155'...         NaN         ARS   \n",
       "1  {'id': 'MLA636709517', 'prices': [{'id': '72',...         NaN         ARS   \n",
       "2  {'id': 'MLA1102761474', 'prices': [{'id': '48'...         NaN         ARS   \n",
       "3  {'id': 'MLA610309020', 'prices': [{'id': '5', ...         NaN         ARS   \n",
       "4  {'id': 'MLA701195248', 'prices': [{'id': '5', ...         NaN         ARS   \n",
       "\n",
       "   available_quantity  sold_quantity  ... winner_item_id melicoin discounts  \\\n",
       "0                 150            500  ...            NaN      NaN       NaN   \n",
       "1                   1           5000  ...            NaN      NaN       NaN   \n",
       "2                 456           3877  ...            NaN      NaN       NaN   \n",
       "3                 100           5000  ...            NaN      NaN       NaN   \n",
       "4               50000            500  ...            NaN      NaN       NaN   \n",
       "\n",
       "  catalog_listing differential_pricing       parent_category_name  \\\n",
       "0             NaN                  NaN  Accesorios para Vehículos   \n",
       "1             NaN                  NaN  Accesorios para Vehículos   \n",
       "2            True                  NaN  Accesorios para Vehículos   \n",
       "3             NaN                  NaN  Accesorios para Vehículos   \n",
       "4             NaN                  NaN  Accesorios para Vehículos   \n",
       "\n",
       "  parent_category_id  seller_contact location sale_terms  \n",
       "0            MLA5725             NaN      NaN        NaN  \n",
       "1            MLA5725             NaN      NaN        NaN  \n",
       "2            MLA5725             NaN      NaN        NaN  \n",
       "3            MLA5725             NaN      NaN        NaN  \n",
       "4            MLA5725             NaN      NaN        NaN  \n",
       "\n",
       "[5 rows x 44 columns]"
      ]
     },
     "execution_count": 6,
     "metadata": {},
     "output_type": "execute_result"
    }
   ],
   "source": [
    "productsDF.head()"
   ]
  },
  {
   "cell_type": "code",
   "execution_count": 7,
   "id": "15d2f928",
   "metadata": {},
   "outputs": [
    {
     "name": "stdout",
     "output_type": "stream",
     "text": [
      "<class 'pandas.core.frame.DataFrame'>\n",
      "Int64Index: 15968 entries, 0 to 49\n",
      "Data columns (total 44 columns):\n",
      " #   Column                Non-Null Count  Dtype  \n",
      "---  ------                --------------  -----  \n",
      " 0   id                    15968 non-null  object \n",
      " 1   site_id               15968 non-null  object \n",
      " 2   title                 15968 non-null  object \n",
      " 3   seller                15968 non-null  object \n",
      " 4   price                 15892 non-null  float64\n",
      " 5   prices                15968 non-null  object \n",
      " 6   sale_price            0 non-null      float64\n",
      " 7   currency_id           15892 non-null  object \n",
      " 8   available_quantity    15968 non-null  int64  \n",
      " 9   sold_quantity         15968 non-null  int64  \n",
      " 10  buying_mode           15968 non-null  object \n",
      " 11  listing_type_id       15968 non-null  object \n",
      " 12  stop_time             15968 non-null  object \n",
      " 13  condition             15468 non-null  object \n",
      " 14  permalink             15968 non-null  object \n",
      " 15  thumbnail             15968 non-null  object \n",
      " 16  thumbnail_id          15968 non-null  object \n",
      " 17  accepts_mercadopago   15968 non-null  bool   \n",
      " 18  installments          14887 non-null  object \n",
      " 19  address               15968 non-null  object \n",
      " 20  shipping              15968 non-null  object \n",
      " 21  seller_address        15968 non-null  object \n",
      " 22  attributes            15968 non-null  object \n",
      " 23  original_price        2937 non-null   float64\n",
      " 24  category_id           15968 non-null  object \n",
      " 25  official_store_id     2434 non-null   float64\n",
      " 26  domain_id             15968 non-null  object \n",
      " 27  catalog_product_id    7729 non-null   object \n",
      " 28  tags                  15968 non-null  object \n",
      " 29  order_backend         15968 non-null  int64  \n",
      " 30  use_thumbnail_id      15968 non-null  bool   \n",
      " 31  offer_score           0 non-null      float64\n",
      " 32  offer_share           0 non-null      float64\n",
      " 33  match_score           0 non-null      float64\n",
      " 34  winner_item_id        0 non-null      float64\n",
      " 35  melicoin              0 non-null      float64\n",
      " 36  discounts             0 non-null      float64\n",
      " 37  catalog_listing       6052 non-null   object \n",
      " 38  differential_pricing  1528 non-null   object \n",
      " 39  parent_category_name  15968 non-null  object \n",
      " 40  parent_category_id    15968 non-null  object \n",
      " 41  seller_contact        1500 non-null   object \n",
      " 42  location              1500 non-null   object \n",
      " 43  sale_terms            76 non-null     object \n",
      "dtypes: bool(2), float64(10), int64(3), object(29)\n",
      "memory usage: 5.3+ MB\n"
     ]
    }
   ],
   "source": [
    "productsDF.info()"
   ]
  },
  {
   "cell_type": "markdown",
   "id": "c2d96270",
   "metadata": {},
   "source": [
    "### Analyzing the data"
   ]
  },
  {
   "cell_type": "markdown",
   "id": "938f7c0f",
   "metadata": {},
   "source": [
    "We will work with the downloaded data, the target variable of interest is `sold_quantity`. The first step is usually to load (or download) the data which we have already done.  The second step is to split data into train, test and validate in order to do those operations. For that we will make use sklearn library."
   ]
  },
  {
   "cell_type": "markdown",
   "id": "69687753",
   "metadata": {},
   "source": [
    "#### Pre-proccesing of data"
   ]
  },
  {
   "cell_type": "code",
   "execution_count": 8,
   "id": "eafb64c3",
   "metadata": {},
   "outputs": [],
   "source": [
    "# Remove rows with missing target\n",
    "productsDF.dropna(axis=0, subset=['sold_quantity'], inplace=True)\n",
    "#sold_quantity is the target variable\n",
    "y = productsDF.sold_quantity"
   ]
  },
  {
   "cell_type": "markdown",
   "id": "68f2cb45",
   "metadata": {},
   "source": [
    "To start with a simpler analysis I'm going to keep only numerical predictors:"
   ]
  },
  {
   "cell_type": "code",
   "execution_count": 9,
   "id": "3f25e4b8",
   "metadata": {},
   "outputs": [],
   "source": [
    "numPredictors = productsDF.drop(['sold_quantity'], axis=1)\n",
    "X = numPredictors.select_dtypes(exclude=['object'])"
   ]
  },
  {
   "cell_type": "code",
   "execution_count": 10,
   "id": "dde16ea6",
   "metadata": {},
   "outputs": [
    {
     "data": {
      "text/html": [
       "<div>\n",
       "<style scoped>\n",
       "    .dataframe tbody tr th:only-of-type {\n",
       "        vertical-align: middle;\n",
       "    }\n",
       "\n",
       "    .dataframe tbody tr th {\n",
       "        vertical-align: top;\n",
       "    }\n",
       "\n",
       "    .dataframe thead th {\n",
       "        text-align: right;\n",
       "    }\n",
       "</style>\n",
       "<table border=\"1\" class=\"dataframe\">\n",
       "  <thead>\n",
       "    <tr style=\"text-align: right;\">\n",
       "      <th></th>\n",
       "      <th>price</th>\n",
       "      <th>sale_price</th>\n",
       "      <th>available_quantity</th>\n",
       "      <th>accepts_mercadopago</th>\n",
       "      <th>original_price</th>\n",
       "      <th>official_store_id</th>\n",
       "      <th>order_backend</th>\n",
       "      <th>use_thumbnail_id</th>\n",
       "      <th>offer_score</th>\n",
       "      <th>offer_share</th>\n",
       "      <th>match_score</th>\n",
       "      <th>winner_item_id</th>\n",
       "      <th>melicoin</th>\n",
       "      <th>discounts</th>\n",
       "    </tr>\n",
       "  </thead>\n",
       "  <tbody>\n",
       "    <tr>\n",
       "      <th>0</th>\n",
       "      <td>4968.50</td>\n",
       "      <td>NaN</td>\n",
       "      <td>150</td>\n",
       "      <td>True</td>\n",
       "      <td>5230.0</td>\n",
       "      <td>NaN</td>\n",
       "      <td>1</td>\n",
       "      <td>False</td>\n",
       "      <td>NaN</td>\n",
       "      <td>NaN</td>\n",
       "      <td>NaN</td>\n",
       "      <td>NaN</td>\n",
       "      <td>NaN</td>\n",
       "      <td>NaN</td>\n",
       "    </tr>\n",
       "    <tr>\n",
       "      <th>1</th>\n",
       "      <td>2159.99</td>\n",
       "      <td>NaN</td>\n",
       "      <td>1</td>\n",
       "      <td>True</td>\n",
       "      <td>NaN</td>\n",
       "      <td>NaN</td>\n",
       "      <td>2</td>\n",
       "      <td>False</td>\n",
       "      <td>NaN</td>\n",
       "      <td>NaN</td>\n",
       "      <td>NaN</td>\n",
       "      <td>NaN</td>\n",
       "      <td>NaN</td>\n",
       "      <td>NaN</td>\n",
       "    </tr>\n",
       "    <tr>\n",
       "      <th>2</th>\n",
       "      <td>1999.00</td>\n",
       "      <td>NaN</td>\n",
       "      <td>456</td>\n",
       "      <td>True</td>\n",
       "      <td>2399.0</td>\n",
       "      <td>1825.0</td>\n",
       "      <td>3</td>\n",
       "      <td>True</td>\n",
       "      <td>NaN</td>\n",
       "      <td>NaN</td>\n",
       "      <td>NaN</td>\n",
       "      <td>NaN</td>\n",
       "      <td>NaN</td>\n",
       "      <td>NaN</td>\n",
       "    </tr>\n",
       "    <tr>\n",
       "      <th>3</th>\n",
       "      <td>1890.00</td>\n",
       "      <td>NaN</td>\n",
       "      <td>100</td>\n",
       "      <td>True</td>\n",
       "      <td>NaN</td>\n",
       "      <td>NaN</td>\n",
       "      <td>4</td>\n",
       "      <td>False</td>\n",
       "      <td>NaN</td>\n",
       "      <td>NaN</td>\n",
       "      <td>NaN</td>\n",
       "      <td>NaN</td>\n",
       "      <td>NaN</td>\n",
       "      <td>NaN</td>\n",
       "    </tr>\n",
       "    <tr>\n",
       "      <th>4</th>\n",
       "      <td>1780.00</td>\n",
       "      <td>NaN</td>\n",
       "      <td>50000</td>\n",
       "      <td>True</td>\n",
       "      <td>NaN</td>\n",
       "      <td>NaN</td>\n",
       "      <td>5</td>\n",
       "      <td>True</td>\n",
       "      <td>NaN</td>\n",
       "      <td>NaN</td>\n",
       "      <td>NaN</td>\n",
       "      <td>NaN</td>\n",
       "      <td>NaN</td>\n",
       "      <td>NaN</td>\n",
       "    </tr>\n",
       "  </tbody>\n",
       "</table>\n",
       "</div>"
      ],
      "text/plain": [
       "     price  sale_price  available_quantity  accepts_mercadopago  \\\n",
       "0  4968.50         NaN                 150                 True   \n",
       "1  2159.99         NaN                   1                 True   \n",
       "2  1999.00         NaN                 456                 True   \n",
       "3  1890.00         NaN                 100                 True   \n",
       "4  1780.00         NaN               50000                 True   \n",
       "\n",
       "   original_price  official_store_id  order_backend  use_thumbnail_id  \\\n",
       "0          5230.0                NaN              1             False   \n",
       "1             NaN                NaN              2             False   \n",
       "2          2399.0             1825.0              3              True   \n",
       "3             NaN                NaN              4             False   \n",
       "4             NaN                NaN              5              True   \n",
       "\n",
       "   offer_score  offer_share  match_score  winner_item_id  melicoin  discounts  \n",
       "0          NaN          NaN          NaN             NaN       NaN        NaN  \n",
       "1          NaN          NaN          NaN             NaN       NaN        NaN  \n",
       "2          NaN          NaN          NaN             NaN       NaN        NaN  \n",
       "3          NaN          NaN          NaN             NaN       NaN        NaN  \n",
       "4          NaN          NaN          NaN             NaN       NaN        NaN  "
      ]
     },
     "execution_count": 10,
     "metadata": {},
     "output_type": "execute_result"
    }
   ],
   "source": [
    "X.head()"
   ]
  },
  {
   "cell_type": "code",
   "execution_count": 11,
   "id": "32526f16",
   "metadata": {},
   "outputs": [
    {
     "name": "stdout",
     "output_type": "stream",
     "text": [
      "<class 'pandas.core.frame.DataFrame'>\n",
      "Int64Index: 15968 entries, 0 to 49\n",
      "Data columns (total 14 columns):\n",
      " #   Column               Non-Null Count  Dtype  \n",
      "---  ------               --------------  -----  \n",
      " 0   price                15892 non-null  float64\n",
      " 1   sale_price           0 non-null      float64\n",
      " 2   available_quantity   15968 non-null  int64  \n",
      " 3   accepts_mercadopago  15968 non-null  bool   \n",
      " 4   original_price       2937 non-null   float64\n",
      " 5   official_store_id    2434 non-null   float64\n",
      " 6   order_backend        15968 non-null  int64  \n",
      " 7   use_thumbnail_id     15968 non-null  bool   \n",
      " 8   offer_score          0 non-null      float64\n",
      " 9   offer_share          0 non-null      float64\n",
      " 10  match_score          0 non-null      float64\n",
      " 11  winner_item_id       0 non-null      float64\n",
      " 12  melicoin             0 non-null      float64\n",
      " 13  discounts            0 non-null      float64\n",
      "dtypes: bool(2), float64(10), int64(2)\n",
      "memory usage: 1.6 MB\n"
     ]
    }
   ],
   "source": [
    "X.info()"
   ]
  },
  {
   "cell_type": "markdown",
   "id": "a1a052b6",
   "metadata": {},
   "source": [
    "I'm going to drop some columns:"
   ]
  },
  {
   "cell_type": "code",
   "execution_count": 12,
   "id": "723fd40c",
   "metadata": {},
   "outputs": [],
   "source": [
    "columnsToDrop = [\"sale_price\",\"order_backend\", \"use_thumbnail_id\", \"offer_score\", \"offer_share\", \"match_score\", \"winner_item_id\", \"melicoin\", \"discounts\"]"
   ]
  },
  {
   "cell_type": "code",
   "execution_count": 13,
   "id": "3dfea125",
   "metadata": {},
   "outputs": [],
   "source": [
    "X = X.drop(columnsToDrop, axis=1)"
   ]
  },
  {
   "cell_type": "code",
   "execution_count": 14,
   "id": "2c887210",
   "metadata": {},
   "outputs": [],
   "source": [
    "X[\"accepts_mercadopago\"] = X[\"accepts_mercadopago\"].astype(float)   "
   ]
  },
  {
   "cell_type": "code",
   "execution_count": 15,
   "id": "e83e1da7",
   "metadata": {},
   "outputs": [
    {
     "name": "stdout",
     "output_type": "stream",
     "text": [
      "<class 'pandas.core.frame.DataFrame'>\n",
      "Int64Index: 15968 entries, 0 to 49\n",
      "Data columns (total 5 columns):\n",
      " #   Column               Non-Null Count  Dtype  \n",
      "---  ------               --------------  -----  \n",
      " 0   price                15892 non-null  float64\n",
      " 1   available_quantity   15968 non-null  int64  \n",
      " 2   accepts_mercadopago  15968 non-null  float64\n",
      " 3   original_price       2937 non-null   float64\n",
      " 4   official_store_id    2434 non-null   float64\n",
      "dtypes: float64(4), int64(1)\n",
      "memory usage: 748.5 KB\n"
     ]
    }
   ],
   "source": [
    "X.info()"
   ]
  },
  {
   "cell_type": "markdown",
   "id": "937a9fbd",
   "metadata": {},
   "source": [
    "And now I'm going to split the dataset:"
   ]
  },
  {
   "cell_type": "code",
   "execution_count": 16,
   "id": "a606f019",
   "metadata": {},
   "outputs": [],
   "source": [
    "# Divide data into training and validation subsets\n",
    "X_train, X_test, y_train, y_test = train_test_split(X, y, train_size=0.9, test_size=0.1,random_state=0)\n",
    "X_train, X_valid, y_train, y_valid = train_test_split(X_train, y_train, train_size=0.9, test_size=0.1,random_state=0)"
   ]
  },
  {
   "cell_type": "markdown",
   "id": "29df31c1",
   "metadata": {},
   "source": [
    "As I'm going to try out different approaches to modeling I'm going to define a fucntion to compare the results. This function return the mean absolute error (MAE) froma random forest model: "
   ]
  },
  {
   "cell_type": "code",
   "execution_count": 17,
   "id": "835b328b",
   "metadata": {},
   "outputs": [],
   "source": [
    "from sklearn.ensemble import RandomForestRegressor\n",
    "from sklearn.metrics import mean_absolute_error"
   ]
  },
  {
   "cell_type": "code",
   "execution_count": 18,
   "id": "e2817285",
   "metadata": {},
   "outputs": [],
   "source": [
    "def score_dataset(X_train, X_valid, y_train, y_valid):\n",
    "    model = RandomForestRegressor(n_estimators=10, random_state=0)\n",
    "    model.fit(X_train, y_train)\n",
    "    preds = model.predict(X_valid)\n",
    "    return mean_absolute_error(y_valid, preds)"
   ]
  },
  {
   "cell_type": "markdown",
   "id": "c3874180",
   "metadata": {},
   "source": [
    "### Modelling stage"
   ]
  },
  {
   "cell_type": "markdown",
   "id": "3d80db2c",
   "metadata": {},
   "source": [
    "#### First approach: Replacing missing numeric values with simple imputer"
   ]
  },
  {
   "cell_type": "markdown",
   "id": "f13f54b0",
   "metadata": {},
   "source": [
    "I am going to use SimplerImputer from sklearn to replace missing values with a mean value."
   ]
  },
  {
   "cell_type": "markdown",
   "id": "a98d2907",
   "metadata": {},
   "source": [
    "First we'll look for the columns with missing values:"
   ]
  },
  {
   "cell_type": "code",
   "execution_count": 19,
   "id": "f72842a3",
   "metadata": {},
   "outputs": [],
   "source": [
    "colsWMissing = [col for col in X_train.columns\n",
    "                     if X_train[col].isnull().any()]"
   ]
  },
  {
   "cell_type": "code",
   "execution_count": 20,
   "id": "4c50c618",
   "metadata": {},
   "outputs": [
    {
     "data": {
      "text/plain": [
       "['price', 'original_price', 'official_store_id']"
      ]
     },
     "execution_count": 20,
     "metadata": {},
     "output_type": "execute_result"
    }
   ],
   "source": [
    "colsWMissing"
   ]
  },
  {
   "cell_type": "code",
   "execution_count": 21,
   "id": "265f1c00",
   "metadata": {},
   "outputs": [
    {
     "name": "stdout",
     "output_type": "stream",
     "text": [
      "price                   66\n",
      "original_price       10600\n",
      "official_store_id    10962\n",
      "dtype: int64\n"
     ]
    }
   ],
   "source": [
    "colsWMissingCount = (X_train.isnull().sum())\n",
    "print(colsWMissingCount[colsWMissingCount > 0])"
   ]
  },
  {
   "cell_type": "code",
   "execution_count": 22,
   "id": "c9c7d5b8",
   "metadata": {},
   "outputs": [],
   "source": [
    "from sklearn.impute import SimpleImputer\n",
    "\n",
    "# Imputation\n",
    "my_imputer = SimpleImputer()\n",
    "imputed_X_train = pd.DataFrame(my_imputer.fit_transform(X_train))\n",
    "imputed_X_valid = pd.DataFrame(my_imputer.transform(X_valid))"
   ]
  },
  {
   "cell_type": "code",
   "execution_count": 23,
   "id": "12732743",
   "metadata": {},
   "outputs": [
    {
     "name": "stdout",
     "output_type": "stream",
     "text": [
      "RangeIndex(start=0, stop=5, step=1)\n"
     ]
    }
   ],
   "source": [
    "print(imputed_X_train.columns)"
   ]
  },
  {
   "cell_type": "code",
   "execution_count": 24,
   "id": "2cc1e791",
   "metadata": {},
   "outputs": [],
   "source": [
    "imputed_X_train.columns = X_train.columns\n",
    "imputed_X_valid.columns = X_valid.columns"
   ]
  },
  {
   "cell_type": "code",
   "execution_count": 25,
   "id": "2c53ac5f",
   "metadata": {},
   "outputs": [
    {
     "name": "stdout",
     "output_type": "stream",
     "text": [
      "MAE dropping categorical values and using imputer for numerical values:\n",
      "484.7637672971337\n"
     ]
    }
   ],
   "source": [
    "print(\"MAE dropping categorical values and using imputer for numerical values:\")\n",
    "print(score_dataset(imputed_X_train, imputed_X_valid, y_train, y_valid))"
   ]
  },
  {
   "cell_type": "code",
   "execution_count": 26,
   "id": "05551d3c",
   "metadata": {},
   "outputs": [],
   "source": [
    "# Preprocess test data\n",
    "final_X_test = pd.DataFrame(my_imputer.transform(X_test))\n",
    "final_X_test.columns = X_test.columns\n",
    "\n",
    "# Define and fit model\n",
    "model = RandomForestRegressor(n_estimators=100, random_state=0)\n",
    "model.fit(imputed_X_train, y_train)\n",
    "\n",
    "# Obtain test predictions\n",
    "preds_test = model.predict(final_X_test)"
   ]
  },
  {
   "cell_type": "code",
   "execution_count": 27,
   "id": "615a5a1f",
   "metadata": {},
   "outputs": [
    {
     "name": "stdout",
     "output_type": "stream",
     "text": [
      "MAE for test set:\n",
      "512.1095294531239\n"
     ]
    }
   ],
   "source": [
    "print(\"MAE for test set:\")\n",
    "print(mean_absolute_error(y_test, preds_test))"
   ]
  },
  {
   "cell_type": "markdown",
   "id": "c8cafbb1",
   "metadata": {},
   "source": [
    "#### Second approach: working with the categorical variables and numerical values"
   ]
  },
  {
   "cell_type": "code",
   "execution_count": 28,
   "id": "4b840df8",
   "metadata": {},
   "outputs": [],
   "source": [
    "X = productsDF.drop(['sold_quantity'], axis=1)"
   ]
  },
  {
   "cell_type": "code",
   "execution_count": 29,
   "id": "cd6ab2c1",
   "metadata": {},
   "outputs": [
    {
     "name": "stdout",
     "output_type": "stream",
     "text": [
      "<class 'pandas.core.frame.DataFrame'>\n",
      "Int64Index: 15968 entries, 0 to 49\n",
      "Data columns (total 43 columns):\n",
      " #   Column                Non-Null Count  Dtype  \n",
      "---  ------                --------------  -----  \n",
      " 0   id                    15968 non-null  object \n",
      " 1   site_id               15968 non-null  object \n",
      " 2   title                 15968 non-null  object \n",
      " 3   seller                15968 non-null  object \n",
      " 4   price                 15892 non-null  float64\n",
      " 5   prices                15968 non-null  object \n",
      " 6   sale_price            0 non-null      float64\n",
      " 7   currency_id           15892 non-null  object \n",
      " 8   available_quantity    15968 non-null  int64  \n",
      " 9   buying_mode           15968 non-null  object \n",
      " 10  listing_type_id       15968 non-null  object \n",
      " 11  stop_time             15968 non-null  object \n",
      " 12  condition             15468 non-null  object \n",
      " 13  permalink             15968 non-null  object \n",
      " 14  thumbnail             15968 non-null  object \n",
      " 15  thumbnail_id          15968 non-null  object \n",
      " 16  accepts_mercadopago   15968 non-null  bool   \n",
      " 17  installments          14887 non-null  object \n",
      " 18  address               15968 non-null  object \n",
      " 19  shipping              15968 non-null  object \n",
      " 20  seller_address        15968 non-null  object \n",
      " 21  attributes            15968 non-null  object \n",
      " 22  original_price        2937 non-null   float64\n",
      " 23  category_id           15968 non-null  object \n",
      " 24  official_store_id     2434 non-null   float64\n",
      " 25  domain_id             15968 non-null  object \n",
      " 26  catalog_product_id    7729 non-null   object \n",
      " 27  tags                  15968 non-null  object \n",
      " 28  order_backend         15968 non-null  int64  \n",
      " 29  use_thumbnail_id      15968 non-null  bool   \n",
      " 30  offer_score           0 non-null      float64\n",
      " 31  offer_share           0 non-null      float64\n",
      " 32  match_score           0 non-null      float64\n",
      " 33  winner_item_id        0 non-null      float64\n",
      " 34  melicoin              0 non-null      float64\n",
      " 35  discounts             0 non-null      float64\n",
      " 36  catalog_listing       6052 non-null   object \n",
      " 37  differential_pricing  1528 non-null   object \n",
      " 38  parent_category_name  15968 non-null  object \n",
      " 39  parent_category_id    15968 non-null  object \n",
      " 40  seller_contact        1500 non-null   object \n",
      " 41  location              1500 non-null   object \n",
      " 42  sale_terms            76 non-null     object \n",
      "dtypes: bool(2), float64(10), int64(2), object(29)\n",
      "memory usage: 5.1+ MB\n"
     ]
    }
   ],
   "source": [
    "X.info()"
   ]
  },
  {
   "cell_type": "markdown",
   "id": "84406a47",
   "metadata": {},
   "source": [
    "For a simpler analysis I'm going to drop some of the columns:"
   ]
  },
  {
   "cell_type": "code",
   "execution_count": 30,
   "id": "5c1ecc97",
   "metadata": {},
   "outputs": [],
   "source": [
    "columnsToDrop = [\"site_id\", \"sale_price\",\"order_backend\", \"use_thumbnail_id\", \"offer_score\", \"offer_share\", \"match_score\", \"winner_item_id\", \"melicoin\", \"discounts\"]"
   ]
  },
  {
   "cell_type": "code",
   "execution_count": 31,
   "id": "48a8badf",
   "metadata": {},
   "outputs": [],
   "source": [
    "X = X.drop(columnsToDrop, axis=1)"
   ]
  },
  {
   "cell_type": "code",
   "execution_count": 32,
   "id": "b3756502",
   "metadata": {},
   "outputs": [],
   "source": [
    "X[\"accepts_mercadopago\"] = X[\"accepts_mercadopago\"].astype(float)   "
   ]
  },
  {
   "cell_type": "code",
   "execution_count": 33,
   "id": "e6931696",
   "metadata": {},
   "outputs": [],
   "source": [
    "# Divide data into training, testing and validation subsets\n",
    "X_train, X_test, y_train, y_test = train_test_split(X, y, train_size=0.9, test_size=0.1,random_state=0)\n",
    "X_train, X_valid, y_train, y_valid = train_test_split(X_train, y_train, train_size=0.9, test_size=0.1,random_state=0)"
   ]
  },
  {
   "cell_type": "markdown",
   "id": "8b79bc52",
   "metadata": {},
   "source": [
    "I am interested in knowing possible values of some categorical variables:"
   ]
  },
  {
   "cell_type": "code",
   "execution_count": 34,
   "id": "43a09cfb",
   "metadata": {},
   "outputs": [
    {
     "name": "stdout",
     "output_type": "stream",
     "text": [
      "id 12155\n",
      "title 11932\n",
      "seller 4256\n",
      "prices 12155\n",
      "currency_id 2\n",
      "buying_mode 2\n",
      "listing_type_id 5\n",
      "stop_time 3997\n",
      "condition 3\n",
      "permalink 12135\n",
      "thumbnail 11903\n",
      "thumbnail_id 11879\n",
      "installments 5710\n",
      "address 692\n",
      "shipping 200\n",
      "seller_address 689\n",
      "attributes 11730\n",
      "category_id 1222\n",
      "domain_id 1051\n",
      "catalog_product_id 5143\n",
      "tags 1026\n",
      "catalog_listing 1\n",
      "differential_pricing 11\n",
      "parent_category_name 32\n",
      "parent_category_id 32\n",
      "seller_contact 367\n",
      "location 925\n",
      "sale_terms 16\n"
     ]
    }
   ],
   "source": [
    "for cname in X_train.columns:\n",
    "    if X_train[cname].dtype == \"object\":\n",
    "        print(cname, X_train[cname].nunique())"
   ]
  },
  {
   "cell_type": "markdown",
   "id": "e8dad03b",
   "metadata": {},
   "source": [
    "I'm going to use an encoder but only in some of the categories, particularly up to those with len < 33 because the variables related to categories have lenght 32"
   ]
  },
  {
   "cell_type": "code",
   "execution_count": 35,
   "id": "e1800a7b",
   "metadata": {},
   "outputs": [],
   "source": [
    "categoricalCols = [cname for cname in X_train.columns if X_train[cname].nunique() < 33 and \n",
    "                        X_train[cname].dtype == \"object\"]\n",
    "\n",
    "# Select numerical columns\n",
    "numericalCols = [cname for cname in X_train.columns if X_train[cname].dtype in ['int64', 'float64']]"
   ]
  },
  {
   "cell_type": "code",
   "execution_count": 36,
   "id": "c95f5dbe",
   "metadata": {},
   "outputs": [
    {
     "data": {
      "text/plain": [
       "['currency_id',\n",
       " 'buying_mode',\n",
       " 'listing_type_id',\n",
       " 'condition',\n",
       " 'catalog_listing',\n",
       " 'differential_pricing',\n",
       " 'parent_category_name',\n",
       " 'parent_category_id',\n",
       " 'sale_terms']"
      ]
     },
     "execution_count": 36,
     "metadata": {},
     "output_type": "execute_result"
    }
   ],
   "source": [
    "categoricalCols"
   ]
  },
  {
   "cell_type": "code",
   "execution_count": 37,
   "id": "a4a9c170",
   "metadata": {},
   "outputs": [
    {
     "data": {
      "text/plain": [
       "array(['buy_it_now', 'classified'], dtype=object)"
      ]
     },
     "execution_count": 37,
     "metadata": {},
     "output_type": "execute_result"
    }
   ],
   "source": [
    "productsDF[\"buying_mode\"].unique()"
   ]
  },
  {
   "cell_type": "code",
   "execution_count": 38,
   "id": "61072613",
   "metadata": {},
   "outputs": [
    {
     "data": {
      "text/plain": [
       "array(['gold_special', 'gold_pro', 'gold_premium', 'gold', 'bronze'],\n",
       "      dtype=object)"
      ]
     },
     "execution_count": 38,
     "metadata": {},
     "output_type": "execute_result"
    }
   ],
   "source": [
    "productsDF[\"listing_type_id\"].unique()"
   ]
  },
  {
   "cell_type": "code",
   "execution_count": 39,
   "id": "19dc7bfe",
   "metadata": {},
   "outputs": [
    {
     "data": {
      "text/plain": [
       "array(['new', 'used', 'not_specified', nan], dtype=object)"
      ]
     },
     "execution_count": 39,
     "metadata": {},
     "output_type": "execute_result"
    }
   ],
   "source": [
    "productsDF[\"condition\"].unique()"
   ]
  },
  {
   "cell_type": "code",
   "execution_count": 40,
   "id": "fc28f00a",
   "metadata": {},
   "outputs": [
    {
     "data": {
      "text/plain": [
       "array([nan, \"{'id': 33678187}\", \"{'id': 35713320}\", \"{'id': 35713278}\",\n",
       "       \"{'id': 35713279}\", \"{'id': 35713248}\", \"{'id': 35713268}\",\n",
       "       \"{'id': 35713341}\", \"{'id': 35713287}\", \"{'id': 35713324}\",\n",
       "       \"{'id': 35713291}\", \"{'id': 35713323}\", \"{'id': 35713326}\"],\n",
       "      dtype=object)"
      ]
     },
     "execution_count": 40,
     "metadata": {},
     "output_type": "execute_result"
    }
   ],
   "source": [
    "productsDF[\"differential_pricing\"].unique()"
   ]
  },
  {
   "cell_type": "code",
   "execution_count": 41,
   "id": "39dbf5a7",
   "metadata": {},
   "outputs": [
    {
     "data": {
      "text/plain": [
       "array([nan,\n",
       "       \"[{'name': 'Modalidad de precio', 'value_id': '6178426', 'value_name': 'Solicitar presupuesto', 'value_struct': None, 'values': [{'id': '6178426', 'name': 'Solicitar presupuesto', 'struct': None}], 'id': 'PRICE_MODALITY'}]\",\n",
       "       \"[{'values': [{'id': '6178426', 'name': 'Solicitar presupuesto', 'struct': None}], 'id': 'PRICE_MODALITY', 'name': 'Modalidad de precio', 'value_id': '6178426', 'value_name': 'Solicitar presupuesto', 'value_struct': None}]\",\n",
       "       \"[{'id': 'PRICE_MODALITY', 'name': 'Modalidad de precio', 'value_id': '6178426', 'value_name': 'Solicitar presupuesto', 'value_struct': None, 'values': [{'id': '6178426', 'name': 'Solicitar presupuesto', 'struct': None}]}]\",\n",
       "       \"[{'value_name': 'Solicitar presupuesto', 'value_struct': None, 'values': [{'id': '6178426', 'name': 'Solicitar presupuesto', 'struct': None}], 'id': 'PRICE_MODALITY', 'name': 'Modalidad de precio', 'value_id': '6178426'}]\",\n",
       "       \"[{'value_struct': None, 'values': [{'id': '6178426', 'name': 'Solicitar presupuesto', 'struct': None}], 'id': 'PRICE_MODALITY', 'name': 'Modalidad de precio', 'value_id': '6178426', 'value_name': 'Solicitar presupuesto'}]\",\n",
       "       \"[{'value_id': '6178426', 'value_name': 'Solicitar presupuesto', 'value_struct': None, 'values': [{'id': '6178426', 'name': 'Solicitar presupuesto', 'struct': None}], 'id': 'PRICE_MODALITY', 'name': 'Modalidad de precio'}]\",\n",
       "       \"[{'value_name': 'Solicitar presupuesto', 'value_struct': None, 'values': [{'struct': None, 'id': '6178426', 'name': 'Solicitar presupuesto'}], 'id': 'PRICE_MODALITY', 'name': 'Modalidad de precio', 'value_id': '6178426'}]\",\n",
       "       \"[{'values': [{'name': 'Solicitar presupuesto', 'struct': None, 'id': '6178426'}], 'id': 'PRICE_MODALITY', 'name': 'Modalidad de precio', 'value_id': '6178426', 'value_name': 'Solicitar presupuesto', 'value_struct': None}]\",\n",
       "       \"[{'id': 'PRICE_MODALITY', 'name': 'Modalidad de precio', 'value_id': '6178426', 'value_name': 'Solicitar presupuesto', 'value_struct': None, 'values': [{'name': 'Solicitar presupuesto', 'struct': None, 'id': '6178426'}]}]\",\n",
       "       \"[{'value_id': '6178426', 'value_name': 'Solicitar presupuesto', 'value_struct': None, 'values': [{'name': 'Solicitar presupuesto', 'struct': None, 'id': '6178426'}], 'id': 'PRICE_MODALITY', 'name': 'Modalidad de precio'}]\",\n",
       "       \"[{'name': 'Modalidad de precio', 'value_id': '6178426', 'value_name': 'Solicitar presupuesto', 'value_struct': None, 'values': [{'name': 'Solicitar presupuesto', 'struct': None, 'id': '6178426'}], 'id': 'PRICE_MODALITY'}]\",\n",
       "       \"[{'value_name': 'Solicitar presupuesto', 'value_struct': None, 'values': [{'name': 'Solicitar presupuesto', 'struct': None, 'id': '6178426'}], 'id': 'PRICE_MODALITY', 'name': 'Modalidad de precio', 'value_id': '6178426'}]\",\n",
       "       \"[{'id': 'PRICE_MODALITY', 'name': 'Modalidad de precio', 'value_id': '6178426', 'value_name': 'Solicitar presupuesto', 'value_struct': None, 'values': [{'struct': None, 'id': '6178426', 'name': 'Solicitar presupuesto'}]}]\",\n",
       "       \"[{'value_struct': None, 'values': [{'name': 'Solicitar presupuesto', 'struct': None, 'id': '6178426'}], 'id': 'PRICE_MODALITY', 'name': 'Modalidad de precio', 'value_id': '6178426', 'value_name': 'Solicitar presupuesto'}]\",\n",
       "       \"[{'values': [{'struct': None, 'id': '6178426', 'name': 'Solicitar presupuesto'}], 'id': 'PRICE_MODALITY', 'name': 'Modalidad de precio', 'value_id': '6178426', 'value_name': 'Solicitar presupuesto', 'value_struct': None}]\",\n",
       "       \"[{'value_id': '6178426', 'value_name': 'Solicitar presupuesto', 'value_struct': None, 'values': [{'struct': None, 'id': '6178426', 'name': 'Solicitar presupuesto'}], 'id': 'PRICE_MODALITY', 'name': 'Modalidad de precio'}]\",\n",
       "       \"[{'name': 'Modalidad de precio', 'value_id': '6178426', 'value_name': 'Solicitar presupuesto', 'value_struct': None, 'values': [{'struct': None, 'id': '6178426', 'name': 'Solicitar presupuesto'}], 'id': 'PRICE_MODALITY'}]\"],\n",
       "      dtype=object)"
      ]
     },
     "execution_count": 41,
     "metadata": {},
     "output_type": "execute_result"
    }
   ],
   "source": [
    "productsDF[\"sale_terms\"].unique()"
   ]
  },
  {
   "cell_type": "code",
   "execution_count": 42,
   "id": "ca55b70b",
   "metadata": {},
   "outputs": [
    {
     "data": {
      "text/plain": [
       "['currency_id',\n",
       " 'buying_mode',\n",
       " 'listing_type_id',\n",
       " 'condition',\n",
       " 'catalog_listing',\n",
       " 'differential_pricing',\n",
       " 'parent_category_name',\n",
       " 'parent_category_id',\n",
       " 'sale_terms']"
      ]
     },
     "execution_count": 42,
     "metadata": {},
     "output_type": "execute_result"
    }
   ],
   "source": [
    "categoricalCols"
   ]
  },
  {
   "cell_type": "code",
   "execution_count": 43,
   "id": "99f9fc36",
   "metadata": {},
   "outputs": [],
   "source": [
    "categoricalCols.remove('sale_terms')\n",
    "categoricalCols.remove('currency_id')\n",
    "categoricalCols.remove('buying_mode')"
   ]
  },
  {
   "cell_type": "markdown",
   "id": "c0e8ac19",
   "metadata": {},
   "source": [
    "Columns of interest:"
   ]
  },
  {
   "cell_type": "code",
   "execution_count": 44,
   "id": "80ff2825",
   "metadata": {},
   "outputs": [
    {
     "name": "stdout",
     "output_type": "stream",
     "text": [
      "['listing_type_id', 'condition', 'catalog_listing', 'differential_pricing', 'parent_category_name', 'parent_category_id', 'price', 'available_quantity', 'accepts_mercadopago', 'original_price', 'official_store_id']\n"
     ]
    }
   ],
   "source": [
    "interstCols = categoricalCols + numericalCols\n",
    "print(interstCols)"
   ]
  },
  {
   "cell_type": "code",
   "execution_count": 45,
   "id": "b4922b2a",
   "metadata": {},
   "outputs": [],
   "source": [
    "# Keep selected columns only\n",
    "X_train = X_train[interstCols].copy()\n",
    "X_valid = X_valid[interstCols].copy()"
   ]
  },
  {
   "cell_type": "markdown",
   "id": "000e838e",
   "metadata": {},
   "source": [
    "Use One-Hot Encoding to transform categorical values"
   ]
  },
  {
   "cell_type": "code",
   "execution_count": 46,
   "id": "58a8d0f5",
   "metadata": {},
   "outputs": [],
   "source": [
    "# Get list of categorical variables\n",
    "s = (X_train.dtypes == 'object')\n",
    "objectCols = list(s[s].index)"
   ]
  },
  {
   "cell_type": "code",
   "execution_count": 47,
   "id": "3c46f1ac",
   "metadata": {},
   "outputs": [
    {
     "name": "stdout",
     "output_type": "stream",
     "text": [
      "Categorical variables:\n",
      "['listing_type_id', 'condition', 'catalog_listing', 'differential_pricing', 'parent_category_name', 'parent_category_id']\n"
     ]
    }
   ],
   "source": [
    "print(\"Categorical variables:\")\n",
    "print(objectCols)"
   ]
  },
  {
   "cell_type": "code",
   "execution_count": 48,
   "id": "0b78ff8b",
   "metadata": {},
   "outputs": [],
   "source": [
    "from sklearn.preprocessing import OneHotEncoder\n",
    "\n",
    "# Apply one-hot encoder to each column with categorical data\n",
    "OH_encoder = OneHotEncoder(handle_unknown='ignore', sparse=False)\n",
    "OH_cols_train = pd.DataFrame(OH_encoder.fit_transform(X_train[objectCols]))\n",
    "OH_cols_valid = pd.DataFrame(OH_encoder.transform(X_valid[objectCols]))\n",
    "\n",
    "# One-hot encoding removed index; put it back\n",
    "OH_cols_train.index = X_train.index\n",
    "OH_cols_valid.index = X_valid.index\n",
    "\n",
    "# Remove categorical columns (will replace with one-hot encoding)\n",
    "num_X_train = X_train.drop(objectCols, axis=1)\n",
    "num_X_valid = X_valid.drop(objectCols, axis=1)\n"
   ]
  },
  {
   "cell_type": "markdown",
   "id": "2de4a396",
   "metadata": {},
   "source": [
    "Use simple imputer for numerical values:"
   ]
  },
  {
   "cell_type": "code",
   "execution_count": 49,
   "id": "f89640c1",
   "metadata": {},
   "outputs": [
    {
     "name": "stdout",
     "output_type": "stream",
     "text": [
      "<class 'pandas.core.frame.DataFrame'>\n",
      "Int64Index: 12933 entries, 25 to 3\n",
      "Data columns (total 5 columns):\n",
      " #   Column               Non-Null Count  Dtype  \n",
      "---  ------               --------------  -----  \n",
      " 0   price                12867 non-null  float64\n",
      " 1   available_quantity   12933 non-null  int64  \n",
      " 2   accepts_mercadopago  12933 non-null  float64\n",
      " 3   original_price       2333 non-null   float64\n",
      " 4   official_store_id    1971 non-null   float64\n",
      "dtypes: float64(4), int64(1)\n",
      "memory usage: 606.2 KB\n"
     ]
    }
   ],
   "source": [
    "num_X_train.info()"
   ]
  },
  {
   "cell_type": "code",
   "execution_count": 50,
   "id": "1f1a9326",
   "metadata": {},
   "outputs": [],
   "source": [
    "# Imputation\n",
    "my_imputer = SimpleImputer()\n",
    "imputed_X_train = pd.DataFrame(my_imputer.fit_transform(X_train[numericalCols]))\n",
    "imputed_X_valid = pd.DataFrame(my_imputer.transform(X_valid[numericalCols]))\n",
    "imputed_X_train.index = X_train.index\n",
    "imputed_X_valid.index = X_valid.index"
   ]
  },
  {
   "cell_type": "code",
   "execution_count": 51,
   "id": "f02b83e6",
   "metadata": {},
   "outputs": [
    {
     "data": {
      "text/plain": [
       "RangeIndex(start=0, stop=5, step=1)"
      ]
     },
     "execution_count": 51,
     "metadata": {},
     "output_type": "execute_result"
    }
   ],
   "source": [
    "imputed_X_valid.columns"
   ]
  },
  {
   "cell_type": "code",
   "execution_count": 52,
   "id": "c73f5542",
   "metadata": {},
   "outputs": [],
   "source": [
    "# Add one-hot encoded columns to numerical features\n",
    "OH_X_train = pd.concat([imputed_X_train, OH_cols_train], axis=1)\n",
    "OH_X_valid = pd.concat([imputed_X_valid, OH_cols_valid], axis=1)"
   ]
  },
  {
   "cell_type": "code",
   "execution_count": 53,
   "id": "438971cd",
   "metadata": {},
   "outputs": [
    {
     "name": "stdout",
     "output_type": "stream",
     "text": [
      "MAE for approach One-Hot Encoding + imputer with mean:\n",
      "509.46230125998363\n"
     ]
    }
   ],
   "source": [
    "print(\"MAE for approach One-Hot Encoding + imputer with mean:\") \n",
    "print(score_dataset(OH_X_train, OH_X_valid, y_train, y_valid))"
   ]
  },
  {
   "cell_type": "code",
   "execution_count": 54,
   "id": "be668500",
   "metadata": {},
   "outputs": [],
   "source": [
    "# Preprocess test data\n",
    "OH_cols_test = pd.DataFrame(OH_encoder.transform(X_test[objectCols]))\n",
    "imputed_X_test = pd.DataFrame(my_imputer.transform(X_test[numericalCols]))\n",
    "\n",
    "OH_cols_test.index = X_test.index\n",
    "imputed_X_test.index = X_test.index\n",
    "OH_X_test = pd.concat([imputed_X_test, OH_cols_test], axis=1)"
   ]
  },
  {
   "cell_type": "code",
   "execution_count": 55,
   "id": "6beed0ca",
   "metadata": {},
   "outputs": [
    {
     "data": {
      "text/plain": [
       "(1597, 92)"
      ]
     },
     "execution_count": 55,
     "metadata": {},
     "output_type": "execute_result"
    }
   ],
   "source": [
    "OH_X_test.shape"
   ]
  },
  {
   "cell_type": "code",
   "execution_count": 56,
   "id": "bf781174",
   "metadata": {},
   "outputs": [
    {
     "data": {
      "text/plain": [
       "(1597, 33)"
      ]
     },
     "execution_count": 56,
     "metadata": {},
     "output_type": "execute_result"
    }
   ],
   "source": [
    "X_test.shape"
   ]
  },
  {
   "cell_type": "code",
   "execution_count": 57,
   "id": "9ded09fd",
   "metadata": {},
   "outputs": [
    {
     "data": {
      "text/plain": [
       "(12933, 92)"
      ]
     },
     "execution_count": 57,
     "metadata": {},
     "output_type": "execute_result"
    }
   ],
   "source": [
    "OH_X_train.shape"
   ]
  },
  {
   "cell_type": "code",
   "execution_count": 58,
   "id": "dd81a7f7",
   "metadata": {},
   "outputs": [
    {
     "data": {
      "text/plain": [
       "(12933,)"
      ]
     },
     "execution_count": 58,
     "metadata": {},
     "output_type": "execute_result"
    }
   ],
   "source": [
    "y_train.shape"
   ]
  },
  {
   "cell_type": "code",
   "execution_count": 59,
   "id": "e3513216",
   "metadata": {},
   "outputs": [
    {
     "data": {
      "text/plain": [
       "RandomForestRegressor(random_state=0)"
      ]
     },
     "execution_count": 59,
     "metadata": {},
     "output_type": "execute_result"
    }
   ],
   "source": [
    "# Define and fit model\n",
    "model = RandomForestRegressor(n_estimators=100, random_state=0)\n",
    "model.fit(OH_X_train, y_train)"
   ]
  },
  {
   "cell_type": "code",
   "execution_count": 60,
   "id": "251da194",
   "metadata": {},
   "outputs": [],
   "source": [
    "# Obtain test predictions\n",
    "preds_test = model.predict(OH_X_test)"
   ]
  },
  {
   "cell_type": "code",
   "execution_count": 61,
   "id": "6901864c",
   "metadata": {},
   "outputs": [
    {
     "name": "stdout",
     "output_type": "stream",
     "text": [
      "MAE for test set:\n",
      "517.2996631477945\n"
     ]
    }
   ],
   "source": [
    "print(\"MAE for test set:\")\n",
    "print(mean_absolute_error(y_test, preds_test))"
   ]
  }
 ],
 "metadata": {
  "kernelspec": {
   "display_name": "Python 3 (ipykernel)",
   "language": "python",
   "name": "python3"
  },
  "language_info": {
   "codemirror_mode": {
    "name": "ipython",
    "version": 3
   },
   "file_extension": ".py",
   "mimetype": "text/x-python",
   "name": "python",
   "nbconvert_exporter": "python",
   "pygments_lexer": "ipython3",
   "version": "3.8.10"
  }
 },
 "nbformat": 4,
 "nbformat_minor": 5
}
